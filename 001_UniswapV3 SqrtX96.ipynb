{
 "cells": [
  {
   "cell_type": "code",
   "execution_count": 1,
   "id": "11647942",
   "metadata": {},
   "outputs": [],
   "source": [
    "import math"
   ]
  },
  {
   "cell_type": "markdown",
   "id": "f6be860e",
   "metadata": {},
   "source": [
    "WETH/USDC UniswapV3Pool - Friday 4th August 2023"
   ]
  },
  {
   "cell_type": "code",
   "execution_count": 2,
   "id": "4b47560a",
   "metadata": {},
   "outputs": [],
   "source": [
    "sqrtPriceX96 = 1851710337453724344833367449611827"
   ]
  },
  {
   "cell_type": "markdown",
   "id": "6bc8cc38",
   "metadata": {},
   "source": [
    "The price given in `slot0` is calculated as follows: $sqrtPriceX96 = \\sqrt{price}*2^{96}$\n",
    "\n",
    "Given that we want to calculate the `price` we have to perform several calculations.\n",
    "\n",
    "1. Divide both sides by $2^{96}$\n",
    "\n",
    "${sqrtPriceX96\\over{2^{96}}} = \\sqrt{price}$\n",
    "\n",
    "2. Square both sides\n",
    "\n",
    "${sqrtPriceX96\\over{2^{96}}}^2 = price$"
   ]
  },
  {
   "cell_type": "code",
   "execution_count": 3,
   "id": "3122255e",
   "metadata": {},
   "outputs": [
    {
     "name": "stdout",
     "output_type": "stream",
     "text": [
      "546244320.767212\n"
     ]
    }
   ],
   "source": [
    "Q96 = 2 ** 96\n",
    "price = (sqrtPriceX96 / Q96) ** 2\n",
    "print(price)"
   ]
  },
  {
   "cell_type": "markdown",
   "id": "7997a5b8",
   "metadata": {},
   "source": [
    "`WETH` has `18` decimals and `USDC` has `6` decimals. We have to adjust the price appropriately."
   ]
  },
  {
   "cell_type": "code",
   "execution_count": 4,
   "id": "ce1f153e",
   "metadata": {},
   "outputs": [],
   "source": [
    "price = price / ((10 ** 18) / (10 ** 6))"
   ]
  },
  {
   "cell_type": "markdown",
   "id": "be208a5a",
   "metadata": {},
   "source": [
    "The `price` calculated this way represents the value of `USDC` in `WETH`. Most exchanges represent it the other way around. How much `USDC` does 1 `WETH` cost."
   ]
  },
  {
   "cell_type": "code",
   "execution_count": 5,
   "id": "1527fd69",
   "metadata": {},
   "outputs": [
    {
     "name": "stdout",
     "output_type": "stream",
     "text": [
      "0.000546244320767212\n"
     ]
    }
   ],
   "source": [
    "print(price)"
   ]
  },
  {
   "cell_type": "markdown",
   "id": "7b7e92db",
   "metadata": {},
   "source": [
    "We have to calculate the reverse: ${WETH\\over{USDC}}^{-1} = {USDC\\over{WETH}}$"
   ]
  },
  {
   "cell_type": "code",
   "execution_count": 7,
   "id": "65767ca5",
   "metadata": {},
   "outputs": [
    {
     "name": "stdout",
     "output_type": "stream",
     "text": [
      "1830.6826487376165\n"
     ]
    }
   ],
   "source": [
    "price = price ** -1\n",
    "print(price)"
   ]
  }
 ],
 "metadata": {
  "kernelspec": {
   "display_name": "Python 3 (ipykernel)",
   "language": "python",
   "name": "python3"
  },
  "language_info": {
   "codemirror_mode": {
    "name": "ipython",
    "version": 3
   },
   "file_extension": ".py",
   "mimetype": "text/x-python",
   "name": "python",
   "nbconvert_exporter": "python",
   "pygments_lexer": "ipython3",
   "version": "3.11.4"
  }
 },
 "nbformat": 4,
 "nbformat_minor": 5
}
