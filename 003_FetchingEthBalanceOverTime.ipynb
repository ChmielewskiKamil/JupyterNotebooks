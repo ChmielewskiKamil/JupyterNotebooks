{
 "cells": [
  {
   "cell_type": "code",
   "execution_count": 1,
   "id": "e10431ce-3362-42c8-bfc4-3377d863328b",
   "metadata": {
    "tags": []
   },
   "outputs": [
    {
     "name": "stdout",
     "output_type": "stream",
     "text": [
      "Requirement already satisfied: web3 in /Users/kamilchmielewski/opt/anaconda3/envs/ethereum/lib/python3.11/site-packages (6.8.0)\n",
      "Requirement already satisfied: aiohttp>=3.7.4.post0 in /Users/kamilchmielewski/opt/anaconda3/envs/ethereum/lib/python3.11/site-packages (from web3) (3.8.5)\n",
      "Requirement already satisfied: eth-abi>=4.0.0 in /Users/kamilchmielewski/opt/anaconda3/envs/ethereum/lib/python3.11/site-packages (from web3) (4.1.0)\n",
      "Requirement already satisfied: eth-account>=0.8.0 in /Users/kamilchmielewski/opt/anaconda3/envs/ethereum/lib/python3.11/site-packages (from web3) (0.9.0)\n",
      "Requirement already satisfied: eth-hash[pycryptodome]>=0.5.1 in /Users/kamilchmielewski/opt/anaconda3/envs/ethereum/lib/python3.11/site-packages (from web3) (0.5.2)\n",
      "Requirement already satisfied: eth-typing>=3.0.0 in /Users/kamilchmielewski/opt/anaconda3/envs/ethereum/lib/python3.11/site-packages (from web3) (3.4.0)\n",
      "Requirement already satisfied: eth-utils>=2.1.0 in /Users/kamilchmielewski/opt/anaconda3/envs/ethereum/lib/python3.11/site-packages (from web3) (2.2.0)\n",
      "Requirement already satisfied: hexbytes>=0.1.0 in /Users/kamilchmielewski/opt/anaconda3/envs/ethereum/lib/python3.11/site-packages (from web3) (0.3.1)\n",
      "Requirement already satisfied: jsonschema>=4.0.0 in /Users/kamilchmielewski/opt/anaconda3/envs/ethereum/lib/python3.11/site-packages (from web3) (4.17.3)\n",
      "Requirement already satisfied: lru-dict>=1.1.6 in /Users/kamilchmielewski/opt/anaconda3/envs/ethereum/lib/python3.11/site-packages (from web3) (1.2.0)\n",
      "Requirement already satisfied: protobuf>=4.21.6 in /Users/kamilchmielewski/opt/anaconda3/envs/ethereum/lib/python3.11/site-packages (from web3) (4.23.4)\n",
      "Requirement already satisfied: requests>=2.16.0 in /Users/kamilchmielewski/opt/anaconda3/envs/ethereum/lib/python3.11/site-packages (from web3) (2.31.0)\n",
      "Requirement already satisfied: typing-extensions>=4.0.1 in /Users/kamilchmielewski/opt/anaconda3/envs/ethereum/lib/python3.11/site-packages (from web3) (4.7.1)\n",
      "Requirement already satisfied: websockets>=10.0.0 in /Users/kamilchmielewski/opt/anaconda3/envs/ethereum/lib/python3.11/site-packages (from web3) (11.0.3)\n",
      "Requirement already satisfied: pyunormalize>=15.0.0 in /Users/kamilchmielewski/opt/anaconda3/envs/ethereum/lib/python3.11/site-packages (from web3) (15.0.0)\n",
      "Requirement already satisfied: attrs>=17.3.0 in /Users/kamilchmielewski/opt/anaconda3/envs/ethereum/lib/python3.11/site-packages (from aiohttp>=3.7.4.post0->web3) (22.1.0)\n",
      "Requirement already satisfied: charset-normalizer<4.0,>=2.0 in /Users/kamilchmielewski/opt/anaconda3/envs/ethereum/lib/python3.11/site-packages (from aiohttp>=3.7.4.post0->web3) (2.0.4)\n",
      "Requirement already satisfied: multidict<7.0,>=4.5 in /Users/kamilchmielewski/opt/anaconda3/envs/ethereum/lib/python3.11/site-packages (from aiohttp>=3.7.4.post0->web3) (6.0.4)\n",
      "Requirement already satisfied: async-timeout<5.0,>=4.0.0a3 in /Users/kamilchmielewski/opt/anaconda3/envs/ethereum/lib/python3.11/site-packages (from aiohttp>=3.7.4.post0->web3) (4.0.2)\n",
      "Requirement already satisfied: yarl<2.0,>=1.0 in /Users/kamilchmielewski/opt/anaconda3/envs/ethereum/lib/python3.11/site-packages (from aiohttp>=3.7.4.post0->web3) (1.9.2)\n",
      "Requirement already satisfied: frozenlist>=1.1.1 in /Users/kamilchmielewski/opt/anaconda3/envs/ethereum/lib/python3.11/site-packages (from aiohttp>=3.7.4.post0->web3) (1.4.0)\n",
      "Requirement already satisfied: aiosignal>=1.1.2 in /Users/kamilchmielewski/opt/anaconda3/envs/ethereum/lib/python3.11/site-packages (from aiohttp>=3.7.4.post0->web3) (1.3.1)\n",
      "Requirement already satisfied: parsimonious<0.10.0,>=0.9.0 in /Users/kamilchmielewski/opt/anaconda3/envs/ethereum/lib/python3.11/site-packages (from eth-abi>=4.0.0->web3) (0.9.0)\n",
      "Requirement already satisfied: bitarray>=2.4.0 in /Users/kamilchmielewski/opt/anaconda3/envs/ethereum/lib/python3.11/site-packages (from eth-account>=0.8.0->web3) (2.8.0)\n",
      "Requirement already satisfied: eth-keyfile>=0.6.0 in /Users/kamilchmielewski/opt/anaconda3/envs/ethereum/lib/python3.11/site-packages (from eth-account>=0.8.0->web3) (0.6.1)\n",
      "Requirement already satisfied: eth-keys>=0.4.0 in /Users/kamilchmielewski/opt/anaconda3/envs/ethereum/lib/python3.11/site-packages (from eth-account>=0.8.0->web3) (0.4.0)\n",
      "Requirement already satisfied: eth-rlp>=0.3.0 in /Users/kamilchmielewski/opt/anaconda3/envs/ethereum/lib/python3.11/site-packages (from eth-account>=0.8.0->web3) (0.3.0)\n",
      "Requirement already satisfied: rlp>=1.0.0 in /Users/kamilchmielewski/opt/anaconda3/envs/ethereum/lib/python3.11/site-packages (from eth-account>=0.8.0->web3) (3.0.0)\n",
      "Requirement already satisfied: pycryptodome<4,>=3.6.6 in /Users/kamilchmielewski/opt/anaconda3/envs/ethereum/lib/python3.11/site-packages (from eth-hash[pycryptodome]>=0.5.1->web3) (3.18.0)\n",
      "Requirement already satisfied: cytoolz>=0.10.1 in /Users/kamilchmielewski/opt/anaconda3/envs/ethereum/lib/python3.11/site-packages (from eth-utils>=2.1.0->web3) (0.12.2)\n",
      "Requirement already satisfied: pyrsistent!=0.17.0,!=0.17.1,!=0.17.2,>=0.14.0 in /Users/kamilchmielewski/opt/anaconda3/envs/ethereum/lib/python3.11/site-packages (from jsonschema>=4.0.0->web3) (0.18.0)\n",
      "Requirement already satisfied: idna<4,>=2.5 in /Users/kamilchmielewski/opt/anaconda3/envs/ethereum/lib/python3.11/site-packages (from requests>=2.16.0->web3) (3.4)\n",
      "Requirement already satisfied: urllib3<3,>=1.21.1 in /Users/kamilchmielewski/opt/anaconda3/envs/ethereum/lib/python3.11/site-packages (from requests>=2.16.0->web3) (1.26.16)\n",
      "Requirement already satisfied: certifi>=2017.4.17 in /Users/kamilchmielewski/opt/anaconda3/envs/ethereum/lib/python3.11/site-packages (from requests>=2.16.0->web3) (2023.7.22)\n",
      "Requirement already satisfied: toolz>=0.8.0 in /Users/kamilchmielewski/opt/anaconda3/envs/ethereum/lib/python3.11/site-packages (from cytoolz>=0.10.1->eth-utils>=2.1.0->web3) (0.12.0)\n",
      "Requirement already satisfied: regex>=2022.3.15 in /Users/kamilchmielewski/opt/anaconda3/envs/ethereum/lib/python3.11/site-packages (from parsimonious<0.10.0,>=0.9.0->eth-abi>=4.0.0->web3) (2023.6.3)\n",
      "Requirement already satisfied: python-dotenv in /Users/kamilchmielewski/opt/anaconda3/envs/ethereum/lib/python3.11/site-packages (1.0.0)\n",
      "Requirement already satisfied: matplotlib in /Users/kamilchmielewski/opt/anaconda3/envs/ethereum/lib/python3.11/site-packages (3.7.2)\n",
      "Requirement already satisfied: contourpy>=1.0.1 in /Users/kamilchmielewski/opt/anaconda3/envs/ethereum/lib/python3.11/site-packages (from matplotlib) (1.1.0)\n",
      "Requirement already satisfied: cycler>=0.10 in /Users/kamilchmielewski/opt/anaconda3/envs/ethereum/lib/python3.11/site-packages (from matplotlib) (0.11.0)\n",
      "Requirement already satisfied: fonttools>=4.22.0 in /Users/kamilchmielewski/opt/anaconda3/envs/ethereum/lib/python3.11/site-packages (from matplotlib) (4.42.0)\n",
      "Requirement already satisfied: kiwisolver>=1.0.1 in /Users/kamilchmielewski/opt/anaconda3/envs/ethereum/lib/python3.11/site-packages (from matplotlib) (1.4.4)\n",
      "Requirement already satisfied: numpy>=1.20 in /Users/kamilchmielewski/opt/anaconda3/envs/ethereum/lib/python3.11/site-packages (from matplotlib) (1.25.2)\n",
      "Requirement already satisfied: packaging>=20.0 in /Users/kamilchmielewski/opt/anaconda3/envs/ethereum/lib/python3.11/site-packages (from matplotlib) (23.0)\n",
      "Requirement already satisfied: pillow>=6.2.0 in /Users/kamilchmielewski/opt/anaconda3/envs/ethereum/lib/python3.11/site-packages (from matplotlib) (10.0.0)\n",
      "Requirement already satisfied: pyparsing<3.1,>=2.3.1 in /Users/kamilchmielewski/opt/anaconda3/envs/ethereum/lib/python3.11/site-packages (from matplotlib) (3.0.9)\n",
      "Requirement already satisfied: python-dateutil>=2.7 in /Users/kamilchmielewski/opt/anaconda3/envs/ethereum/lib/python3.11/site-packages (from matplotlib) (2.8.2)\n",
      "Requirement already satisfied: six>=1.5 in /Users/kamilchmielewski/opt/anaconda3/envs/ethereum/lib/python3.11/site-packages (from python-dateutil>=2.7->matplotlib) (1.16.0)\n"
     ]
    }
   ],
   "source": [
    "!pip install web3 # to query blockchain data\n",
    "!pip install python-dotenv # to safely use RPC URL\n",
    "!pip install matplotlib"
   ]
  },
  {
   "cell_type": "code",
   "execution_count": 2,
   "id": "8590ab8a-9f5d-47fa-8500-3a691af795c9",
   "metadata": {
    "tags": []
   },
   "outputs": [
    {
     "data": {
      "text/plain": [
       "True"
      ]
     },
     "execution_count": 2,
     "metadata": {},
     "output_type": "execute_result"
    }
   ],
   "source": [
    "import os\n",
    "from matplotlib import pyplot as plt\n",
    "from web3 import Web3\n",
    "from dotenv import load_dotenv\n",
    "\n",
    "# Load environment variables from .env file\n",
    "load_dotenv()"
   ]
  },
  {
   "cell_type": "code",
   "execution_count": 3,
   "id": "8f4c0ebc-183e-4af0-a164-1c56c7039a38",
   "metadata": {
    "tags": []
   },
   "outputs": [],
   "source": [
    "MAINNET_RPC_URL = os.environ.get('MAINNET_RPC_URL')"
   ]
  },
  {
   "cell_type": "code",
   "execution_count": 4,
   "id": "1353aa89-900d-4548-980c-d584505a268c",
   "metadata": {
    "tags": []
   },
   "outputs": [],
   "source": [
    "web3 = Web3(Web3.HTTPProvider(MAINNET_RPC_URL))"
   ]
  },
  {
   "cell_type": "code",
   "execution_count": 5,
   "id": "e496b148",
   "metadata": {
    "tags": []
   },
   "outputs": [],
   "source": [
    "vitalik_address: str = '0xd8dA6BF26964aF9D7eEd9e03E53415D37aA96045'"
   ]
  },
  {
   "cell_type": "code",
   "execution_count": 6,
   "id": "bf8aed13",
   "metadata": {
    "tags": []
   },
   "outputs": [
    {
     "name": "stdout",
     "output_type": "stream",
     "text": [
      "3789657914226142560125\n"
     ]
    }
   ],
   "source": [
    "vitalik_balance = web3.eth.get_balance(vitalik_address)\n",
    "print(vitalik_balance)"
   ]
  },
  {
   "cell_type": "markdown",
   "id": "6e21587a-f4f2-4db4-bba7-2fa0bc1ca5a0",
   "metadata": {},
   "source": [
    "As an exercise let's query Vitalik's ETH balance overt the past 5 years."
   ]
  },
  {
   "cell_type": "code",
   "execution_count": 14,
   "id": "da2d0cb9-7ca2-41e7-8664-b954cbeea3c3",
   "metadata": {
    "tags": []
   },
   "outputs": [
    {
     "name": "stdout",
     "output_type": "stream",
     "text": [
      "17849052\n"
     ]
    }
   ],
   "source": [
    "balance_data = []\n",
    "start_block = 302086 # August 4, 2018\n",
    "end_block = web3.eth.get_block('latest').number\n",
    "print(end_block)"
   ]
  },
  {
   "cell_type": "markdown",
   "id": "f34b68cf-b37d-4ed8-9372-953106da4f5b",
   "metadata": {},
   "source": [
    "We will use the above block numbers to iterate over each block and gather both the balance and the timestamp."
   ]
  },
  {
   "cell_type": "code",
   "execution_count": null,
   "id": "4916ffaa-80a7-4ae2-a0bd-035e23c23a8b",
   "metadata": {
    "tags": []
   },
   "outputs": [],
   "source": [
    "current_block = start_block\n",
    "\n",
    "while current_block < end_block:\n",
    "    try:\n",
    "        balance = web3.eth.get_balance(vitalik_address, current_block)\n",
    "        timestamp = web3.eth.get_block(current_block).timestamp\n",
    "        balance_data.append((timestamp, web3.from_wei(balance, 'ether')))\n",
    "    except:\n",
    "        pass\n",
    "        \n",
    "    current_block += 1000 \n",
    "    \n",
    "print(balance_data)"
   ]
  },
  {
   "cell_type": "code",
   "execution_count": null,
   "id": "9eb08feb-4005-4783-9e92-4b86d3254aa0",
   "metadata": {
    "tags": []
   },
   "outputs": [],
   "source": [
    "timestamps, balances = zip(*balance_data)\n",
    "plt.figure(figsize=(12, 6))\n",
    "plt.plot(timestamps, balances)\n",
    "plt.xlabel('Block Number')\n",
    "plt.ylabel('Vitalik Buterin\\'s Ethereum Balance (ETH)')\n",
    "plt.title('Vitalik Buterin\\'s Ethereum Balance Over Time')\n",
    "plt.grid(True)\n",
    "plt.show()"
   ]
  },
  {
   "cell_type": "code",
   "execution_count": null,
   "id": "e3ad8cb0-9c30-4c9e-b870-beee0638b072",
   "metadata": {},
   "outputs": [],
   "source": []
  }
 ],
 "metadata": {
  "kernelspec": {
   "display_name": "Python 3 (ipykernel)",
   "language": "python",
   "name": "python3"
  },
  "language_info": {
   "codemirror_mode": {
    "name": "ipython",
    "version": 3
   },
   "file_extension": ".py",
   "mimetype": "text/x-python",
   "name": "python",
   "nbconvert_exporter": "python",
   "pygments_lexer": "ipython3",
   "version": "3.11.4"
  }
 },
 "nbformat": 4,
 "nbformat_minor": 5
}
